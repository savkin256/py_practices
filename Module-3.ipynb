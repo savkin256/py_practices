{
 "cells": [
  {
   "cell_type": "code",
   "execution_count": 13,
   "id": "11fd2671",
   "metadata": {},
   "outputs": [
    {
     "name": "stdout",
     "output_type": "stream",
     "text": [
      "Введите начальную сумму депозита: 10000\n",
      "Введите процент по депозиту: 10\n",
      "Введите желаемую сумму вклада с учетом полученных процентов: 1000\n",
      "У вас уже есть требуемая сумма, копить не надо, УРА!\n"
     ]
    }
   ],
   "source": [
    "## Part 1 Level 1\n",
    "\n",
    "def input_number():\n",
    "\n",
    "    # input only numeric\n",
    "    \n",
    "    while True:\n",
    "        number = input()\n",
    "        if number.isnumeric():\n",
    "            return number\n",
    "        else:\n",
    "            print(\"    ОШИБКА, разрешены только числа, введите еще раз: \", end='')\n",
    "\n",
    "\n",
    "def annual_deposit_calc(deposit_amount, deposit_interest):\n",
    "\n",
    "    # annual deposit calculation:\n",
    "    # initial ammount + percents, and convert to INT\n",
    "\n",
    "    return(int(deposit_amount*(100+deposit_interest)/100))\n",
    "\n",
    "\n",
    "def syntax_years(years):\n",
    "    \n",
    "    # returns right ending depends on last digit\n",
    "\n",
    "    # last digit\n",
    "    last = abs(years) % 10\n",
    "    \n",
    "    # last two digit\n",
    "    last2 = abs(years) % 100\n",
    "    \n",
    "    # conditions\n",
    "    if last == 0 or 5 <= last <= 9 or 5 <= last2 <= 20:\n",
    "        return('лет')\n",
    "    elif last == 1:\n",
    "        return('год')\n",
    "    elif 2 <= last <= 4:\n",
    "        return('года')\n",
    "    \n",
    "\n",
    "def main():\n",
    "    \n",
    "    # input initial deposit ammount\n",
    "    print('Введите начальную сумму депозита: ', end = '')\n",
    "    x = float(input_number())\n",
    "\n",
    "    # input deposit interest\n",
    "    print('Введите процент по депозиту: ', end = '')\n",
    "    p = int(input_number())\n",
    "    \n",
    "    # input target deposit ammount\n",
    "    print('Введите желаемую сумму вклада с учетом полученных процентов: ', end = '')\n",
    "    y = float(input_number())\n",
    "    \n",
    "    # years count\n",
    "    y_count = 0\n",
    "    \n",
    "    while x < y:\n",
    "        x = annual_deposit_calc(x, p)\n",
    "        y_count += 1\n",
    "\n",
    "    if y_count == 0:\n",
    "        print('У вас уже есть требуемая сумма, копить не надо, УРА!')\n",
    "    else:\n",
    "        print('Вам понадобится минимум', y_count, syntax_years(y_count), ', и Вы накопите', x, 'рублей')\n",
    "        \n",
    "if __name__ == '__main__':\n",
    "    main()"
   ]
  },
  {
   "cell_type": "code",
   "execution_count": 12,
   "id": "606313df",
   "metadata": {},
   "outputs": [
    {
     "name": "stdout",
     "output_type": "stream",
     "text": [
      "0\n"
     ]
    }
   ],
   "source": [
    "## Part 1 Level 2\n",
    "\n",
    "def main():\n",
    "    \n",
    "    n = int(input())\n",
    "    count = 0\n",
    "    \n",
    "    while count < n:\n",
    "        print('for - частный случай цикла while')\n",
    "        count += 1\n",
    "    \n",
    "if __name__ == '__main__':\n",
    "    main()"
   ]
  },
  {
   "cell_type": "code",
   "execution_count": 16,
   "id": "185f849e",
   "metadata": {},
   "outputs": [
    {
     "name": "stdout",
     "output_type": "stream",
     "text": [
      "1234\n",
      "10\n"
     ]
    }
   ],
   "source": [
    "## Part 1 Level 3\n",
    "\n",
    "def main():\n",
    "    \n",
    "    number = int(input())\n",
    "    summ = 0\n",
    "    \n",
    "    for digit in str(number):\n",
    "        summ += int(digit)\n",
    "    \n",
    "    print(summ)\n",
    "    \n",
    "if __name__ == '__main__':\n",
    "    main()"
   ]
  },
  {
   "cell_type": "code",
   "execution_count": 19,
   "id": "3439edb3",
   "metadata": {},
   "outputs": [
    {
     "name": "stdout",
     "output_type": "stream",
     "text": [
      "[1, 'hello']\n"
     ]
    }
   ],
   "source": [
    "## Part 2 Level 1\n",
    "\n",
    "def main():\n",
    "    \n",
    "    L = [1, 4, 1, 6, 7, \"hello\", \"a\", 5, \"hello\", \"7\"]\n",
    "    RESULT = []\n",
    "    \n",
    "    for index1 in range(0, len(L)):\n",
    "\n",
    "        for index2 in range(index1+1, len(L)):\n",
    "            \n",
    "            if L[index1] == L[index2]:\n",
    "                RESULT.append(L[index1])\n",
    "                \n",
    "    print(RESULT)\n",
    "\n",
    "if __name__ == '__main__':\n",
    "    main()"
   ]
  },
  {
   "cell_type": "code",
   "execution_count": 24,
   "id": "e89cba02",
   "metadata": {},
   "outputs": [
    {
     "name": "stdout",
     "output_type": "stream",
     "text": [
      "Введите размер матрицы: 5\n",
      "[64, 84, 93, 42, 8]\n",
      "[97, 59, 54, 65, 30]\n",
      "[72, 7, 25, 53, 73]\n",
      "[39, 1, 48, 51, 20]\n",
      "[76, 8, 75, 37, 76]\n",
      "Максимальный элемент: 97\n"
     ]
    }
   ],
   "source": [
    "## Part 2 Level 2\n",
    "\n",
    "from random import randint\n",
    "\n",
    "def create_matrix(size):\n",
    "    return([[randint(0, 100) for i in range(size)] for j in range(size)])\n",
    "\n",
    "def main():\n",
    "    \n",
    "    matrix_size = int(input('Введите размерность матрицы: '))\n",
    "    matrix = create_matrix(matrix_size)\n",
    "    maximum = 0\n",
    "       \n",
    "    for string in matrix:\n",
    "        \n",
    "        print(string)\n",
    "        \n",
    "        for element in string:\n",
    "            if maximum < element:\n",
    "                maximum = element\n",
    "    \n",
    "    print('Максимальный элемент:', maximum)\n",
    "    \n",
    "if __name__ == '__main__':\n",
    "    main()"
   ]
  },
  {
   "cell_type": "code",
   "execution_count": 29,
   "id": "bd181eb6",
   "metadata": {},
   "outputs": [
    {
     "name": "stdout",
     "output_type": "stream",
     "text": [
      "{15: 'Ann', 14: 'Joe', 5: 'Nike', 18: 'Steve'}\n"
     ]
    }
   ],
   "source": [
    "## Part 2 Level 3 (variant with new dict)\n",
    "\n",
    "def main():\n",
    "    \n",
    "    d = {\"Ann\": 15, \"Joe\": 14, \"Nike\": 5, \"Steve\": 18}\n",
    "    out = {}\n",
    "    \n",
    "    for name, age in d.items():\n",
    "        out.update({age: name})\n",
    "    \n",
    "    print(out)\n",
    "        \n",
    "        \n",
    "if __name__ == '__main__':\n",
    "    main()"
   ]
  },
  {
   "cell_type": "code",
   "execution_count": 34,
   "id": "0da2edac",
   "metadata": {},
   "outputs": [
    {
     "name": "stdout",
     "output_type": "stream",
     "text": [
      "{15: 'Ann', 14: 'Joe', 5: 'Nike', 18: 'Steve'}\n"
     ]
    }
   ],
   "source": [
    "## Part 2 Level 3 (variant with modification of existing dict)\n",
    "\n",
    "def main():\n",
    "    \n",
    "    d = {\"Ann\": 15, \"Joe\": 14, \"Nike\": 5, \"Steve\": 18}\n",
    "    \n",
    "    for name in list(d.keys()):\n",
    "        d.update({d[name]: name})\n",
    "        d.pop(name)\n",
    "    \n",
    "    print(d)\n",
    "        \n",
    "        \n",
    "if __name__ == '__main__':\n",
    "    main()"
   ]
  },
  {
   "cell_type": "code",
   "execution_count": null,
   "id": "10f55ece",
   "metadata": {},
   "outputs": [],
   "source": []
  }
 ],
 "metadata": {
  "kernelspec": {
   "display_name": "Python 3 (ipykernel)",
   "language": "python",
   "name": "python3"
  },
  "language_info": {
   "codemirror_mode": {
    "name": "ipython",
    "version": 3
   },
   "file_extension": ".py",
   "mimetype": "text/x-python",
   "name": "python",
   "nbconvert_exporter": "python",
   "pygments_lexer": "ipython3",
   "version": "3.10.7"
  }
 },
 "nbformat": 4,
 "nbformat_minor": 5
}
