{
 "cells": [
  {
   "cell_type": "code",
   "execution_count": 26,
   "id": "8022bb43",
   "metadata": {},
   "outputs": [
    {
     "name": "stdout",
     "output_type": "stream",
     "text": [
      "Введит искомое число: 44\n",
      "[7, 9, 18, 25, 51, 53, 67, 69, 73, 73, 74, 76, 76, 77, 79, 80, 81, 91, 97, 99]\n"
     ]
    }
   ],
   "source": [
    "from random import randint \n",
    "\n",
    "# quick sort from previous module (file quicksort.py)\n",
    "from quicksort import quicksort \n",
    "\n",
    "\n",
    "def binsearch_iter(massive, digit):\n",
    "\n",
    "    first = 0\n",
    "    last = len(massive) - 1\n",
    "\n",
    "    index = last//2\n",
    "    \n",
    "    if \n",
    "    \n",
    "    return massive\n",
    "\n",
    "def main():\n",
    "\n",
    "    to_find = input(\"Введит искомое число: \")\n",
    "\n",
    "    mass = [randint(0,99) for i in range(20)]\n",
    "\n",
    "    print(binsearch_iter(quicksort(mass), to_find))\n",
    "\n",
    "    \n",
    "if __name__ == '__main__':\n",
    "    main()"
   ]
  },
  {
   "cell_type": "code",
   "execution_count": null,
   "id": "6e30959e",
   "metadata": {},
   "outputs": [],
   "source": []
  },
  {
   "cell_type": "code",
   "execution_count": null,
   "id": "00325464",
   "metadata": {},
   "outputs": [],
   "source": []
  }
 ],
 "metadata": {
  "kernelspec": {
   "display_name": "Python 3 (ipykernel)",
   "language": "python",
   "name": "python3"
  },
  "language_info": {
   "codemirror_mode": {
    "name": "ipython",
    "version": 3
   },
   "file_extension": ".py",
   "mimetype": "text/x-python",
   "name": "python",
   "nbconvert_exporter": "python",
   "pygments_lexer": "ipython3",
   "version": "3.10.7"
  }
 },
 "nbformat": 4,
 "nbformat_minor": 5
}
