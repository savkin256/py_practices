{
 "cells": [
  {
   "cell_type": "code",
   "execution_count": 22,
   "id": "f6b021ea",
   "metadata": {},
   "outputs": [
    {
     "name": "stdout",
     "output_type": "stream",
     "text": [
      "Значение выражения:  0.038580246913580245\n"
     ]
    }
   ],
   "source": [
    "# Модуль 1. Часть 1. Уровень 1.\n",
    "\n",
    "def main():\n",
    "\n",
    "    result = (5+7*5/8)/3**5\n",
    "    print('Значение выражения: ', result)\n",
    "\n",
    "if __name__ == '__main__':\n",
    "    main()"
   ]
  },
  {
   "cell_type": "code",
   "execution_count": 20,
   "id": "a633eb05",
   "metadata": {},
   "outputs": [
    {
     "name": "stdout",
     "output_type": "stream",
     "text": [
      "Введите скорость движения в км/ч (целое число): 60\n",
      "Введите время движения в часах (целое число): 3\n",
      "Отметка:  71  км\n"
     ]
    }
   ],
   "source": [
    "# Модуль 1. Часть 1. Уровень 2.\n",
    "\n",
    "def main():\n",
    "    \n",
    "    # Длина МКАД\n",
    "    mkad_lenght = 109\n",
    "    \n",
    "    # Вводим скорость\n",
    "    v = int(input('Введите скорость движения в км/ч (целое число): '))\n",
    "    \n",
    "    # Вводим время движения\n",
    "    t = int(input('Введите время движения в часах (целое число): '))\n",
    "    \n",
    "    result = (v * t) % mkad_lenght\n",
    "    print(result)\n",
    "\n",
    "if __name__ == '__main__':\n",
    "    main()"
   ]
  },
  {
   "cell_type": "code",
   "execution_count": 26,
   "id": "17a99ac7",
   "metadata": {},
   "outputs": [
    {
     "name": "stdout",
     "output_type": "stream",
     "text": [
      "Введите первое число: -124\n",
      "Введите второе число: -15\n",
      "Наибольшее число:  -15.0\n"
     ]
    }
   ],
   "source": [
    "# Модуль 1. Часть 1. Уровень 3.\n",
    "\n",
    "def main():\n",
    "    \n",
    "    # Введите первое число\n",
    "    first = float(input('Введите первое число: '))\n",
    "    \n",
    "    # Введите второе число\n",
    "    second = float(input('Введите второе число: '))\n",
    "    \n",
    "    \n",
    "    result = (first > second) * first + (first <= second) * second\n",
    "    print(result)\n",
    "\n",
    "if __name__ == '__main__':\n",
    "    main()"
   ]
  },
  {
   "cell_type": "code",
   "execution_count": 32,
   "id": "cecc5b0b",
   "metadata": {},
   "outputs": [
    {
     "name": "stdout",
     "output_type": "stream",
     "text": [
      "Введите первое число: -7\n",
      "Введите второе число: 7\n",
      "Введите третье число: 7\n",
      "2\n"
     ]
    }
   ],
   "source": [
    "# Модуль 1. Часть 2. Уровень 1.\n",
    "\n",
    "def main():\n",
    "    \n",
    "    # Введите первое число\n",
    "    a = int(input('Введите первое число: '))\n",
    "    \n",
    "    # Введите второе число\n",
    "    b = int(input('Введите второе число: '))\n",
    "    \n",
    "    # Введите третье число\n",
    "    c = int(input('Введите третье число: '))\n",
    "    \n",
    "        \n",
    "    if a == b:\n",
    "        if b == c:\n",
    "            print(3)\n",
    "        else:\n",
    "            print(2)\n",
    "    elif b == c or a == c:\n",
    "        print(2)\n",
    "    else:\n",
    "        print(0)\n",
    "\n",
    "if __name__ == '__main__':\n",
    "    main()"
   ]
  },
  {
   "cell_type": "code",
   "execution_count": 43,
   "id": "63f3934b",
   "metadata": {},
   "outputs": [
    {
     "name": "stdout",
     "output_type": "stream",
     "text": [
      "Введите координаты первой клетки через пробел: 3 4\n",
      "Введите координаты второй клетки через пробел: 2 3\n",
      "NO\n"
     ]
    }
   ],
   "source": [
    "# Модуль 1. Часть 2. Уровень 2.\n",
    "\n",
    "def main():\n",
    "    \n",
    "    # Введите координаты первой клетки через пробел\n",
    "    first = input('Введите координаты первой клетки через пробел: ')\n",
    "    \n",
    "    # Введите координаты второй клетки через пробел\n",
    "    second = input('Введите координаты второй клетки через пробел: ')\n",
    "\n",
    "    if first.split()[0] == second.split()[0] or first.split()[1] == second.split()[1]:\n",
    "        print('YES')\n",
    "    else:\n",
    "        print('NO')\n",
    "\n",
    "        \n",
    "if __name__ == '__main__':\n",
    "    main()"
   ]
  },
  {
   "cell_type": "code",
   "execution_count": null,
   "id": "7a7252e1",
   "metadata": {},
   "outputs": [],
   "source": [
    "# Модуль 1. Часть 2. Уровень 3.\n",
    "\n",
    "def check_complexity(password):\n",
    "\n",
    "    upper = False\n",
    "    lower = False\n",
    "    min_len = 8\n",
    "    \n",
    "    if len(password) >= min_len:\n",
    "        \n",
    "        for symbol in password:\n",
    "\n",
    "            if symbol.isalpha:\n",
    "                \n",
    "                if symbol == symbol.upper():\n",
    "                    upper = True\n",
    "                else:\n",
    "                    lower = True\n",
    "\n",
    "        return(lower & upper)\n",
    "    \n",
    "    else:\n",
    "        \n",
    "        return(False)\n",
    "        \n",
    "        \n",
    "\n",
    "def main():\n",
    "    \n",
    "    passwd = ''\n",
    "    \n",
    "    while not check_complexity(passwd):\n",
    "\n",
    "        # Введите пароль\n",
    "        passwd = input('Введите пароль: ')\n",
    "        \n",
    "if __name__ == '__main__':\n",
    "    main()"
   ]
  },
  {
   "cell_type": "code",
   "execution_count": null,
   "id": "a3866497",
   "metadata": {},
   "outputs": [],
   "source": []
  }
 ],
 "metadata": {
  "kernelspec": {
   "display_name": "Python 3 (ipykernel)",
   "language": "python",
   "name": "python3"
  },
  "language_info": {
   "codemirror_mode": {
    "name": "ipython",
    "version": 3
   },
   "file_extension": ".py",
   "mimetype": "text/x-python",
   "name": "python",
   "nbconvert_exporter": "python",
   "pygments_lexer": "ipython3",
   "version": "3.10.7"
  }
 },
 "nbformat": 4,
 "nbformat_minor": 5
}
