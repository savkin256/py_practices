{
 "cells": [
  {
   "cell_type": "code",
   "execution_count": 4,
   "id": "46cad920",
   "metadata": {},
   "outputs": [
    {
     "name": "stdout",
     "output_type": "stream",
     "text": [
      "7\n",
      "13\n"
     ]
    }
   ],
   "source": [
    "# РЕКУРСИЯ\n",
    "\n",
    "### Числа фибоначи\n",
    "\n",
    "\n",
    "def fibonachi(n):\n",
    "    if n == 0:\n",
    "        return 0\n",
    "    elif n == 1:\n",
    "        return 1\n",
    "    else:\n",
    "        return fibonachi(n-1) + fibonachi(n-2)\n",
    "\n",
    "def main():\n",
    "\n",
    "    n = int(input())\n",
    "    print(fibonachi(n))\n",
    "\n",
    "if __name__ == '__main__':\n",
    "    main()"
   ]
  },
  {
   "cell_type": "code",
   "execution_count": 8,
   "id": "f80fb716",
   "metadata": {},
   "outputs": [
    {
     "name": "stdout",
     "output_type": "stream",
     "text": [
      "Stop? [yes\\no]no\n",
      "Choose role? [client\\admin]client\n",
      "Continue?[yes\\no]yes\n",
      "Pizza name to order?margarita\n",
      "Pizza added\n",
      "Continue?[yes\\no]no\n",
      "{'order': ['margarita'], 'cost': 400}\n",
      "Stop? [yes\\no]yes\n"
     ]
    }
   ],
   "source": [
    "### Pizza\n",
    "\n",
    "data_pizza = {'margarita': 400, 'carbonara': 500}\n",
    "\n",
    "def add_pizza(name, price):\n",
    "    if name not in data_pizza.keys():\n",
    "        data_pizza[name] = price\n",
    "    else:\n",
    "        print('Pizza already exist')\n",
    "\n",
    "def del_pizza(name):\n",
    "    if name in data_pizza.keys():\n",
    "        del data_pizza[name]\n",
    "    else:\n",
    "        print('Pizza not exist')\n",
    "\n",
    "def order_pizza():\n",
    "    order = []\n",
    "    cost = 0\n",
    "    while True:\n",
    "        q1 = input('Continue?[yes\\\\no]')\n",
    "        if q1 == 'no':\n",
    "            break\n",
    "        pizza_name = input('Pizza name to order?')\n",
    "        if pizza_name in data_pizza.keys():\n",
    "            order.append(pizza_name)\n",
    "            cost += data_pizza[pizza_name]\n",
    "            print('Pizza added')\n",
    "    return {'order': order, 'cost': cost}\n",
    "\n",
    "def main():\n",
    "    \n",
    "    while True:\n",
    "        break_point = input('Stop? [yes\\\\no]')\n",
    "        if break_point == 'yes':\n",
    "            break\n",
    "        chose_role = input('Choose role? [client\\\\admin]')\n",
    "        if chose_role == 'client':\n",
    "            print(order_pizza())\n",
    "        else:\n",
    "            q2 = input('Add or delete pizza? [add\\\\del]')\n",
    "            if q2 == 'del':\n",
    "                del_pizza(input('Pizza name to delete?'))\n",
    "            elif q2 == 'add':\n",
    "                add_pizza(input('Pizza name to add?'), int(input('Price?')))\n",
    "\n",
    "if __name__ == '__main__':\n",
    "    main()\n",
    "\n",
    "\n"
   ]
  },
  {
   "cell_type": "code",
   "execution_count": 18,
   "id": "5be95423",
   "metadata": {},
   "outputs": [
    {
     "name": "stdout",
     "output_type": "stream",
     "text": [
      "1\n",
      "год\n",
      "2\n",
      "года\n",
      "\n"
     ]
    }
   ],
   "source": [
    "def syntax_years(years):\n",
    "    \n",
    "    # returns right ending depends on last digit\n",
    "\n",
    "    # last digit\n",
    "    last = abs(years) % 10\n",
    "    \n",
    "    # last two digit\n",
    "    last2 = abs(years) % 100\n",
    "    \n",
    "    # conditions\n",
    "    if last == 0 or 5 <= last <= 9 or 5 <= last2 <= 20:\n",
    "        return(' лет')\n",
    "    elif last == 1:\n",
    "        return(' год')\n",
    "    elif 2 <= last <= 4:\n",
    "        return(' года')\n",
    "\n",
    "\n",
    "def main():\n",
    "    \n",
    "    while True:\n",
    "        a = input()\n",
    "        if a.isnumeric():\n",
    "            print(syntax_years(int(a)))\n",
    "        else:\n",
    "            break\n",
    "              \n",
    "if __name__ == '__main__':\n",
    "    main()\n"
   ]
  },
  {
   "cell_type": "markdown",
   "id": "9cd8a3fb",
   "metadata": {},
   "source": [
    "###### "
   ]
  },
  {
   "cell_type": "code",
   "execution_count": 27,
   "id": "e2881a72",
   "metadata": {},
   "outputs": [
    {
     "name": "stdout",
     "output_type": "stream",
     "text": [
      "[91, 69, 36, 53, 66]\n"
     ]
    }
   ],
   "source": [
    "from random import randint\n",
    "\n",
    "print([randint(0,100) for i in range(5)])"
   ]
  },
  {
   "cell_type": "code",
   "execution_count": 26,
   "id": "39c04b1d",
   "metadata": {},
   "outputs": [
    {
     "name": "stdout",
     "output_type": "stream",
     "text": [
      "Выберите способ вычисления:\n",
      "\n",
      "\t 1 - c помощью возведения в степень\n",
      "\t 2 - c помощью модуля math\n",
      "\t 3 - c помощью модуля cmath\n",
      "\t 4 - c помощью модуля numpy\n",
      "\t 5 - c помощью модуля scipy\n",
      "\t 6 - c помощью модуля sympy\n",
      "\n"
     ]
    }
   ],
   "source": [
    "    print('Выберите способ вычисления:\\n\\n\\t', \n",
    "            '1 - c помощью возведения в степень\\n\\t',\n",
    "            '2 - c помощью модуля math\\n\\t',\n",
    "            '3 - c помощью модуля cmath\\n\\t',\n",
    "            '4 - c помощью модуля numpy\\n\\t',\n",
    "            '5 - c помощью модуля scipy\\n\\t',\n",
    "            '6 - c помощью модуля sympy\\n')\n"
   ]
  },
  {
   "cell_type": "code",
   "execution_count": 28,
   "id": "95e3e09f",
   "metadata": {},
   "outputs": [
    {
     "ename": "KeyboardInterrupt",
     "evalue": "Interrupted by user",
     "output_type": "error",
     "traceback": [
      "\u001b[0;31m---------------------------------------------------------------------------\u001b[0m",
      "\u001b[0;31mKeyboardInterrupt\u001b[0m                         Traceback (most recent call last)",
      "Cell \u001b[0;32mIn [28], line 51\u001b[0m\n\u001b[1;32m     47\u001b[0m     \u001b[38;5;28mprint\u001b[39m(\u001b[38;5;124m'\u001b[39m\u001b[38;5;124mПлощадь треугольника =\u001b[39m\u001b[38;5;124m'\u001b[39m, area_3(side_one, side_two, side_three, method))\n\u001b[1;32m     50\u001b[0m \u001b[38;5;28;01mif\u001b[39;00m \u001b[38;5;18m__name__\u001b[39m \u001b[38;5;241m==\u001b[39m \u001b[38;5;124m'\u001b[39m\u001b[38;5;124m__main__\u001b[39m\u001b[38;5;124m'\u001b[39m:\n\u001b[0;32m---> 51\u001b[0m     \u001b[43mmain\u001b[49m\u001b[43m(\u001b[49m\u001b[43m)\u001b[49m\n",
      "Cell \u001b[0;32mIn [28], line 35\u001b[0m, in \u001b[0;36mmain\u001b[0;34m()\u001b[0m\n\u001b[1;32m     33\u001b[0m \u001b[38;5;28;01mdef\u001b[39;00m \u001b[38;5;21mmain\u001b[39m():\n\u001b[0;32m---> 35\u001b[0m     side_one, side_two, side_three \u001b[38;5;241m=\u001b[39m \u001b[38;5;28mmap\u001b[39m(\u001b[38;5;28mint\u001b[39m, \u001b[38;5;28;43minput\u001b[39;49m\u001b[43m(\u001b[49m\u001b[38;5;124;43m'\u001b[39;49m\u001b[38;5;124;43mВведите стороны треугольника через пробел: \u001b[39;49m\u001b[38;5;124;43m'\u001b[39;49m\u001b[43m)\u001b[49m\u001b[38;5;241m.\u001b[39msplit())\n\u001b[1;32m     37\u001b[0m     \u001b[38;5;28mprint\u001b[39m(\u001b[38;5;124m'\u001b[39m\u001b[38;5;124mВыберите способ вычисления:\u001b[39m\u001b[38;5;130;01m\\n\u001b[39;00m\u001b[38;5;130;01m\\n\u001b[39;00m\u001b[38;5;130;01m\\t\u001b[39;00m\u001b[38;5;124m'\u001b[39m, \n\u001b[1;32m     38\u001b[0m         \u001b[38;5;124m'\u001b[39m\u001b[38;5;124m1 - c помощью возведения в степень\u001b[39m\u001b[38;5;130;01m\\n\u001b[39;00m\u001b[38;5;130;01m\\t\u001b[39;00m\u001b[38;5;124m'\u001b[39m,\n\u001b[1;32m     39\u001b[0m         \u001b[38;5;124m'\u001b[39m\u001b[38;5;124m2 - c помощью модуля math\u001b[39m\u001b[38;5;130;01m\\n\u001b[39;00m\u001b[38;5;130;01m\\t\u001b[39;00m\u001b[38;5;124m'\u001b[39m,\n\u001b[0;32m   (...)\u001b[0m\n\u001b[1;32m     42\u001b[0m         \u001b[38;5;124m'\u001b[39m\u001b[38;5;124m5 - c помощью модуля scipy\u001b[39m\u001b[38;5;130;01m\\n\u001b[39;00m\u001b[38;5;130;01m\\t\u001b[39;00m\u001b[38;5;124m'\u001b[39m,\n\u001b[1;32m     43\u001b[0m         \u001b[38;5;124m'\u001b[39m\u001b[38;5;124m6 - c помощью модуля sympy\u001b[39m\u001b[38;5;124m'\u001b[39m)\n\u001b[1;32m     45\u001b[0m     method \u001b[38;5;241m=\u001b[39m \u001b[38;5;28minput\u001b[39m()\n",
      "File \u001b[0;32m~/Python_envs/py3107_def/lib/python3.10/site-packages/ipykernel/kernelbase.py:1177\u001b[0m, in \u001b[0;36mKernel.raw_input\u001b[0;34m(self, prompt)\u001b[0m\n\u001b[1;32m   1173\u001b[0m \u001b[38;5;28;01mif\u001b[39;00m \u001b[38;5;129;01mnot\u001b[39;00m \u001b[38;5;28mself\u001b[39m\u001b[38;5;241m.\u001b[39m_allow_stdin:\n\u001b[1;32m   1174\u001b[0m     \u001b[38;5;28;01mraise\u001b[39;00m StdinNotImplementedError(\n\u001b[1;32m   1175\u001b[0m         \u001b[38;5;124m\"\u001b[39m\u001b[38;5;124mraw_input was called, but this frontend does not support input requests.\u001b[39m\u001b[38;5;124m\"\u001b[39m\n\u001b[1;32m   1176\u001b[0m     )\n\u001b[0;32m-> 1177\u001b[0m \u001b[38;5;28;01mreturn\u001b[39;00m \u001b[38;5;28;43mself\u001b[39;49m\u001b[38;5;241;43m.\u001b[39;49m\u001b[43m_input_request\u001b[49m\u001b[43m(\u001b[49m\n\u001b[1;32m   1178\u001b[0m \u001b[43m    \u001b[49m\u001b[38;5;28;43mstr\u001b[39;49m\u001b[43m(\u001b[49m\u001b[43mprompt\u001b[49m\u001b[43m)\u001b[49m\u001b[43m,\u001b[49m\n\u001b[1;32m   1179\u001b[0m \u001b[43m    \u001b[49m\u001b[38;5;28;43mself\u001b[39;49m\u001b[38;5;241;43m.\u001b[39;49m\u001b[43m_parent_ident\u001b[49m\u001b[43m[\u001b[49m\u001b[38;5;124;43m\"\u001b[39;49m\u001b[38;5;124;43mshell\u001b[39;49m\u001b[38;5;124;43m\"\u001b[39;49m\u001b[43m]\u001b[49m\u001b[43m,\u001b[49m\n\u001b[1;32m   1180\u001b[0m \u001b[43m    \u001b[49m\u001b[38;5;28;43mself\u001b[39;49m\u001b[38;5;241;43m.\u001b[39;49m\u001b[43mget_parent\u001b[49m\u001b[43m(\u001b[49m\u001b[38;5;124;43m\"\u001b[39;49m\u001b[38;5;124;43mshell\u001b[39;49m\u001b[38;5;124;43m\"\u001b[39;49m\u001b[43m)\u001b[49m\u001b[43m,\u001b[49m\n\u001b[1;32m   1181\u001b[0m \u001b[43m    \u001b[49m\u001b[43mpassword\u001b[49m\u001b[38;5;241;43m=\u001b[39;49m\u001b[38;5;28;43;01mFalse\u001b[39;49;00m\u001b[43m,\u001b[49m\n\u001b[1;32m   1182\u001b[0m \u001b[43m\u001b[49m\u001b[43m)\u001b[49m\n",
      "File \u001b[0;32m~/Python_envs/py3107_def/lib/python3.10/site-packages/ipykernel/kernelbase.py:1219\u001b[0m, in \u001b[0;36mKernel._input_request\u001b[0;34m(self, prompt, ident, parent, password)\u001b[0m\n\u001b[1;32m   1216\u001b[0m             \u001b[38;5;28;01mbreak\u001b[39;00m\n\u001b[1;32m   1217\u001b[0m \u001b[38;5;28;01mexcept\u001b[39;00m \u001b[38;5;167;01mKeyboardInterrupt\u001b[39;00m:\n\u001b[1;32m   1218\u001b[0m     \u001b[38;5;66;03m# re-raise KeyboardInterrupt, to truncate traceback\u001b[39;00m\n\u001b[0;32m-> 1219\u001b[0m     \u001b[38;5;28;01mraise\u001b[39;00m \u001b[38;5;167;01mKeyboardInterrupt\u001b[39;00m(\u001b[38;5;124m\"\u001b[39m\u001b[38;5;124mInterrupted by user\u001b[39m\u001b[38;5;124m\"\u001b[39m) \u001b[38;5;28;01mfrom\u001b[39;00m \u001b[38;5;28mNone\u001b[39m\n\u001b[1;32m   1220\u001b[0m \u001b[38;5;28;01mexcept\u001b[39;00m \u001b[38;5;167;01mException\u001b[39;00m:\n\u001b[1;32m   1221\u001b[0m     \u001b[38;5;28mself\u001b[39m\u001b[38;5;241m.\u001b[39mlog\u001b[38;5;241m.\u001b[39mwarning(\u001b[38;5;124m\"\u001b[39m\u001b[38;5;124mInvalid Message:\u001b[39m\u001b[38;5;124m\"\u001b[39m, exc_info\u001b[38;5;241m=\u001b[39m\u001b[38;5;28;01mTrue\u001b[39;00m)\n",
      "\u001b[0;31mKeyboardInterrupt\u001b[0m: Interrupted by user"
     ]
    }
   ],
   "source": [
    "## Part 3 Level 1\n",
    "\n",
    "import math\n",
    "import cmath\n",
    "import numpy\n",
    "import scipy\n",
    "import sympy\n",
    "\n",
    "\n",
    "def area_3(a, b, c, method):\n",
    "    \n",
    "    p = (a + b + c)/2\n",
    "    \n",
    "    if method == '1':\n",
    "        return ((p * (p - a) * (p - b) * (p - c)) ** 0.5)\n",
    "\n",
    "    elif method == '2':\n",
    "        return (math.sqrt(p * (p - a) * (p - b) * (p - c)))\n",
    "\n",
    "    elif method == '3':\n",
    "        return (cmath.sqrt(p * (p - a) * (p - b) * (p - c)))\n",
    "\n",
    "    elif method == '4':\n",
    "        return (numpy.sqrt(p * (p - a) * (p - b) * (p - c)))\n",
    "   \n",
    "    elif method == '5':\n",
    "        return (scipy.sqrt(p * (p - a) * (p - b) * (p - c)))\n",
    "    \n",
    "    elif method == '6':\n",
    "        return (sympy.sqrt(p * (p - a) * (p - b) * (p - c)))\n",
    "\n",
    "\n",
    "def main():\n",
    "    \n",
    "    side_one, side_two, side_three = map(int, input('Введите стороны треугольника через пробел: ').split())\n",
    "\n",
    "    print('Выберите способ вычисления:\\n\\n\\t', \n",
    "        '1 - c помощью возведения в степень\\n\\t',\n",
    "        '2 - c помощью модуля math\\n\\t',\n",
    "        '3 - c помощью модуля cmath\\n\\t',\n",
    "        '4 - c помощью модуля numpy\\n\\t',\n",
    "        '5 - c помощью модуля scipy\\n\\t',\n",
    "        '6 - c помощью модуля sympy')\n",
    "    \n",
    "    method = input()\n",
    "\n",
    "    print('Площадь треугольника =', area_3(side_one, side_two, side_three, method))\n",
    "\n",
    "        \n",
    "if __name__ == '__main__':\n",
    "    main()"
   ]
  },
  {
   "cell_type": "code",
   "execution_count": 37,
   "id": "6f9bc22a",
   "metadata": {},
   "outputs": [
    {
     "name": "stdout",
     "output_type": "stream",
     "text": [
      "w\n"
     ]
    }
   ],
   "source": [
    "s = ['qwer', 'asdf']\n",
    "\n",
    "print(s[0][1])"
   ]
  },
  {
   "cell_type": "code",
   "execution_count": 40,
   "id": "ee4d22dd",
   "metadata": {},
   "outputs": [
    {
     "name": "stdout",
     "output_type": "stream",
     "text": [
      "100 100\n",
      "200 100\n"
     ]
    }
   ],
   "source": [
    "a = b = 100\n",
    "\n",
    "print(a, b)\n",
    "\n",
    "a = 200\n",
    "\n",
    "print(a, b)\n"
   ]
  },
  {
   "cell_type": "code",
   "execution_count": 43,
   "id": "e54b53c0",
   "metadata": {},
   "outputs": [
    {
     "name": "stdout",
     "output_type": "stream",
     "text": [
      "5\n"
     ]
    }
   ],
   "source": [
    "a = 534\n",
    "print(str(a)[0])"
   ]
  },
  {
   "cell_type": "code",
   "execution_count": 85,
   "id": "4d679171",
   "metadata": {},
   "outputs": [
    {
     "name": "stdout",
     "output_type": "stream",
     "text": [
      "5\n",
      "1\n",
      "[14, 23, 3, 54, 7, 12]\n",
      "[14, 23, 3, 54, 7, 12, 0]\n",
      "[14, 23, 3, 54, 7, 12, 0, 0]\n"
     ]
    }
   ],
   "source": [
    "a = [14, 23, 3, 54, 7]\n",
    "b = [0]\n",
    "\n",
    "print(len(a))\n",
    "print(len(b))\n",
    "\n",
    "a.append(12)\n",
    "print(a)\n",
    "\n",
    "a.extend(b)\n",
    "print(a)\n",
    "\n",
    "print(a.append + b)"
   ]
  },
  {
   "cell_type": "code",
   "execution_count": 72,
   "id": "539ef79e",
   "metadata": {},
   "outputs": [
    {
     "name": "stdout",
     "output_type": "stream",
     "text": [
      "True\n"
     ]
    }
   ],
   "source": [
    "def ttt():\n",
    "    return(True)\n",
    "\n",
    "def main():\n",
    "    print(ttt())\n",
    "    \n",
    "if __name__ == '__main__':\n",
    "    main()"
   ]
  },
  {
   "cell_type": "code",
   "execution_count": 99,
   "id": "da9e10ae",
   "metadata": {},
   "outputs": [
    {
     "name": "stdout",
     "output_type": "stream",
     "text": [
      "671 67 True\n"
     ]
    }
   ],
   "source": [
    "def first_is_smaller(num1, num2):\n",
    "\n",
    "    num1_str = str(num1)\n",
    "    num2_str = str(num2)\n",
    "    \n",
    "    len1 = len(num1_str)\n",
    "    len2 = len(num2_str)\n",
    "\n",
    "    i = 0\n",
    "    j = 0\n",
    "    \n",
    "    # in the begining, check numbers just by first digit\n",
    "    if int(num1_str[0]) < int(num2_str[0]):\n",
    "        return True\n",
    "    elif int(num1_str[0]) > int(num2_str[0]):\n",
    "        return False\n",
    "\n",
    "    # in case of first digits are equal\n",
    "    else:\n",
    "    \n",
    "        # if lengths are equal, then simply compare numbers\n",
    "        if len1 == len2:\n",
    "\n",
    "            if num1 <= num2:\n",
    "                return True\n",
    "            else:\n",
    "                return False\n",
    "    \n",
    "        # if lengths are not equal, compare digits by digits\n",
    "\n",
    "        # in case of first number is shorter\n",
    "        elif len1 < len2:\n",
    "            \n",
    "                while j < len2:\n",
    "                    \n",
    "                    # if we have reached end of shorter, than start it over\n",
    "                    if i == len1:\n",
    "                        i = 0\n",
    "                        \n",
    "                    if int(num1_str[i]) < int(num2_str[j]):\n",
    "                        return True\n",
    "                    elif int(num1_str[i]) > int(num2_str[j]):\n",
    "                        return False\n",
    "                    \n",
    "                    i += 1\n",
    "                    j += 1\n",
    "                \n",
    "        # in case of second number is shorter\n",
    "        else:\n",
    "            \n",
    "                while j < len1:\n",
    "                    \n",
    "                    if i == len2:\n",
    "                        i = 0\n",
    "                        \n",
    "                    if int(num2_str[i]) < int(num1_str[j]):\n",
    "                        return False\n",
    "                    elif int(num2_str[i]) > int(num1_str[j]):\n",
    "                        return True\n",
    "                    \n",
    "                    i += 1\n",
    "                    j += 1\n",
    "                    \n",
    "        # if we here, than numbers are fully identical\n",
    "        # and no matter what will be smaller.\n",
    "        # \n",
    "        # let first will be smaller\n",
    "        return True\n",
    "    \n",
    "\n",
    "def main():\n",
    "\n",
    "    a = 671\n",
    "    b = 67\n",
    "    \n",
    "    print (a, b, first_is_smaller(a, b))\n",
    "\n",
    "\n",
    "if __name__ == '__main__':\n",
    "    main()"
   ]
  },
  {
   "cell_type": "code",
   "execution_count": 101,
   "id": "b8bf2cdc",
   "metadata": {},
   "outputs": [
    {
     "name": "stdout",
     "output_type": "stream",
     "text": [
      "[56, 9, 11, 2] -> 56 9 11 2\n"
     ]
    }
   ],
   "source": [
    "massive = [56, 9, 11, 2]\n",
    "print(massive, '->', ' '.join(map(str, massive)))\n",
    "\n"
   ]
  },
  {
   "cell_type": "code",
   "execution_count": 115,
   "id": "6b4c73ee",
   "metadata": {},
   "outputs": [
    {
     "name": "stdout",
     "output_type": "stream",
     "text": [
      "{'username': 'password'}\n"
     ]
    }
   ],
   "source": [
    "import json\n",
    "\n",
    "data = {'username': 'password'}\n",
    "\n",
    "# with open('test.json', 'w') as file:\n",
    "#     json.dump(data, file)\n",
    "\n",
    "with open('test.json') as file:\n",
    "     print(json.load(file))\n"
   ]
  },
  {
   "cell_type": "code",
   "execution_count": 116,
   "id": "26ec1621",
   "metadata": {},
   "outputs": [
    {
     "name": "stdout",
     "output_type": "stream",
     "text": [
      "this will execute\n"
     ]
    }
   ],
   "source": [
    "d = {\"key1\": 10, \"key2\": 23}\n",
    "\n",
    "if \"key1\" in d:\n",
    "    print(\"this will execute\")\n",
    "\n",
    "if \"nonexistent key\" in d:\n",
    "    print(\"this will not\")"
   ]
  },
  {
   "cell_type": "code",
   "execution_count": null,
   "id": "fcb4a407",
   "metadata": {},
   "outputs": [],
   "source": []
  }
 ],
 "metadata": {
  "kernelspec": {
   "display_name": "Python 3 (ipykernel)",
   "language": "python",
   "name": "python3"
  },
  "language_info": {
   "codemirror_mode": {
    "name": "ipython",
    "version": 3
   },
   "file_extension": ".py",
   "mimetype": "text/x-python",
   "name": "python",
   "nbconvert_exporter": "python",
   "pygments_lexer": "ipython3",
   "version": "3.10.7"
  }
 },
 "nbformat": 4,
 "nbformat_minor": 5
}
