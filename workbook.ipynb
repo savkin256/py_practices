{
 "cells": [
  {
   "cell_type": "code",
   "execution_count": 4,
   "id": "72ca1cf7",
   "metadata": {},
   "outputs": [
    {
     "name": "stdout",
     "output_type": "stream",
     "text": [
      "7\n",
      "13\n"
     ]
    }
   ],
   "source": [
    "# РЕКУРСИЯ\n",
    "\n",
    "### Числа фибоначи\n",
    "\n",
    "\n",
    "def fibonachi(n):\n",
    "    if n == 0:\n",
    "        return 0\n",
    "    elif n == 1:\n",
    "        return 1\n",
    "    else:\n",
    "        return fibonachi(n-1) + fibonachi(n-2)\n",
    "\n",
    "def main():\n",
    "\n",
    "    n = int(input())\n",
    "    print(fibonachi(n))\n",
    "\n",
    "if __name__ == '__main__':\n",
    "    main()"
   ]
  },
  {
   "cell_type": "code",
   "execution_count": 8,
   "id": "071bf582",
   "metadata": {},
   "outputs": [
    {
     "name": "stdout",
     "output_type": "stream",
     "text": [
      "Stop? [yes\\no]no\n",
      "Choose role? [client\\admin]client\n",
      "Continue?[yes\\no]yes\n",
      "Pizza name to order?margarita\n",
      "Pizza added\n",
      "Continue?[yes\\no]no\n",
      "{'order': ['margarita'], 'cost': 400}\n",
      "Stop? [yes\\no]yes\n"
     ]
    }
   ],
   "source": [
    "### Pizza\n",
    "\n",
    "data_pizza = {'margarita': 400, 'carbonara': 500}\n",
    "\n",
    "def add_pizza(name, price):\n",
    "    if name not in data_pizza.keys():\n",
    "        data_pizza[name] = price\n",
    "    else:\n",
    "        print('Pizza already exist')\n",
    "\n",
    "def del_pizza(name):\n",
    "    if name in data_pizza.keys():\n",
    "        del data_pizza[name]\n",
    "    else:\n",
    "        print('Pizza not exist')\n",
    "\n",
    "def order_pizza():\n",
    "    order = []\n",
    "    cost = 0\n",
    "    while True:\n",
    "        q1 = input('Continue?[yes\\\\no]')\n",
    "        if q1 == 'no':\n",
    "            break\n",
    "        pizza_name = input('Pizza name to order?')\n",
    "        if pizza_name in data_pizza.keys():\n",
    "            order.append(pizza_name)\n",
    "            cost += data_pizza[pizza_name]\n",
    "            print('Pizza added')\n",
    "    return {'order': order, 'cost': cost}\n",
    "\n",
    "def main():\n",
    "    \n",
    "    while True:\n",
    "        break_point = input('Stop? [yes\\\\no]')\n",
    "        if break_point == 'yes':\n",
    "            break\n",
    "        chose_role = input('Choose role? [client\\\\admin]')\n",
    "        if chose_role == 'client':\n",
    "            print(order_pizza())\n",
    "        else:\n",
    "            q2 = input('Add or delete pizza? [add\\\\del]')\n",
    "            if q2 == 'del':\n",
    "                del_pizza(input('Pizza name to delete?'))\n",
    "            elif q2 == 'add':\n",
    "                add_pizza(input('Pizza name to add?'), int(input('Price?')))\n",
    "\n",
    "if __name__ == '__main__':\n",
    "    main()\n",
    "\n",
    "\n"
   ]
  },
  {
   "cell_type": "code",
   "execution_count": 18,
   "id": "6b3507e2",
   "metadata": {},
   "outputs": [
    {
     "name": "stdout",
     "output_type": "stream",
     "text": [
      "1\n",
      "год\n",
      "2\n",
      "года\n",
      "\n"
     ]
    }
   ],
   "source": [
    "def syntax_years(years):\n",
    "    \n",
    "    # returns right ending depends on last digit\n",
    "\n",
    "    # last digit\n",
    "    last = abs(years) % 10\n",
    "    \n",
    "    # last two digit\n",
    "    last2 = abs(years) % 100\n",
    "    \n",
    "    # conditions\n",
    "    if last == 0 or 5 <= last <= 9 or 5 <= last2 <= 20:\n",
    "        return(' лет')\n",
    "    elif last == 1:\n",
    "        return(' год')\n",
    "    elif 2 <= last <= 4:\n",
    "        return(' года')\n",
    "\n",
    "\n",
    "def main():\n",
    "    \n",
    "    while True:\n",
    "        a = input()\n",
    "        if a.isnumeric():\n",
    "            print(syntax_years(int(a)))\n",
    "        else:\n",
    "            break\n",
    "              \n",
    "if __name__ == '__main__':\n",
    "    main()\n"
   ]
  },
  {
   "cell_type": "markdown",
   "id": "26b67240",
   "metadata": {},
   "source": [
    "###### "
   ]
  },
  {
   "cell_type": "code",
   "execution_count": 19,
   "id": "a09f84da",
   "metadata": {},
   "outputs": [
    {
     "name": "stdout",
     "output_type": "stream",
     "text": [
      "[2, 87, 28, 26, 98, 59, 62, 94, 1, 95]\n"
     ]
    }
   ],
   "source": [
    "from random import randint\n",
    "\n",
    "print([randint(0,100) for i in range(10)])"
   ]
  },
  {
   "cell_type": "code",
   "execution_count": null,
   "id": "0be64cef",
   "metadata": {},
   "outputs": [],
   "source": []
  }
 ],
 "metadata": {
  "kernelspec": {
   "display_name": "Python 3 (ipykernel)",
   "language": "python",
   "name": "python3"
  },
  "language_info": {
   "codemirror_mode": {
    "name": "ipython",
    "version": 3
   },
   "file_extension": ".py",
   "mimetype": "text/x-python",
   "name": "python",
   "nbconvert_exporter": "python",
   "pygments_lexer": "ipython3",
   "version": "3.10.7"
  }
 },
 "nbformat": 4,
 "nbformat_minor": 5
}
